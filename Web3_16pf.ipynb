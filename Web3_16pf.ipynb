{
  "nbformat": 4,
  "nbformat_minor": 0,
  "metadata": {
    "colab": {
      "provenance": []
    },
    "kernelspec": {
      "name": "python3",
      "display_name": "Python 3"
    },
    "language_info": {
      "name": "python"
    }
  },
  "cells": [
    {
      "cell_type": "code",
      "execution_count": 9,
      "metadata": {
        "id": "DVQGwTtTxy1p"
      },
      "outputs": [],
      "source": [
        "#REQUIRED LIBRARIES IMPORTED\n",
        "import pandas as pd\n",
        "from sklearn.model_selection import train_test_split\n",
        "from sklearn.preprocessing import StandardScaler"
      ]
    },
    {
      "cell_type": "code",
      "source": [
        "df = pd.read_csv(\"FinalDataset.csv\").drop(\"Analysis\", axis=1) #reads the dataset without the 1st column"
      ],
      "metadata": {
        "id": "wMZg0Nnq7tu0"
      },
      "execution_count": 10,
      "outputs": []
    },
    {
      "cell_type": "code",
      "source": [
        "df.head() #displays the dataset"
      ],
      "metadata": {
        "colab": {
          "base_uri": "https://localhost:8080/",
          "height": 255
        },
        "id": "wKZ-vfts2R4c",
        "outputId": "406416d5-8dce-435a-ee57-0e6e6d71e833"
      },
      "execution_count": 11,
      "outputs": [
        {
          "output_type": "execute_result",
          "data": {
            "text/plain": [
              "   I_seldom_feel_blue  I_feel_comfortable_with_myself  \\\n",
              "0                  17                              10   \n",
              "1                  17                               6   \n",
              "2                   2                               3   \n",
              "3                  12                               8   \n",
              "4                   2                               2   \n",
              "\n",
              "   I_readily_overcome_setbacks  I_am_relaxed_most_of_the_time  \\\n",
              "0                           14                             14   \n",
              "1                           16                              6   \n",
              "2                           10                              2   \n",
              "3                           19                              8   \n",
              "4                           10                              2   \n",
              "\n",
              "   I_am_not_easily_frustrated  I_have_frequent_mood_swings  I_often_feel_blue  \\\n",
              "0                          14                            2                  2   \n",
              "1                          11                            6                  6   \n",
              "2                           2                           10                  2   \n",
              "3                           4                           19                 19   \n",
              "4                          14                            2                 14   \n",
              "\n",
              "   I_dislike_myself  I_feel_desperate  I_am_easily_discouraged  ...  \\\n",
              "0                 2                 2                       10  ...   \n",
              "1                11                 6                       16  ...   \n",
              "2                17                10                       14  ...   \n",
              "3                 7                12                       18  ...   \n",
              "4                14                14                        2  ...   \n",
              "\n",
              "   I_avoid_philosophical_discussions_  \\\n",
              "0                                   2   \n",
              "1                                   6   \n",
              "2                                   2   \n",
              "3                                  19   \n",
              "4                                  14   \n",
              "\n",
              "   I_rarely_look_for_a_deeper_meaning_in_things_  \\\n",
              "0                                             14   \n",
              "1                                             16   \n",
              "2                                              2   \n",
              "3                                             19   \n",
              "4                                              2   \n",
              "\n",
              "   I_am_not_interested_in_theoretical_discussions_  \\\n",
              "0                                                2   \n",
              "1                                               17   \n",
              "2                                               19   \n",
              "3                                               19   \n",
              "4                                               17   \n",
              "\n",
              "   I_am_not_interested_in_abstract_ideas_  I_try_to_avoid_complex_people_  \\\n",
              "0                                       2                               2   \n",
              "1                                      16                              16   \n",
              "2                                       2                              10   \n",
              "3                                      12                              19   \n",
              "4                                      10                               2   \n",
              "\n",
              "   Anxiety  Independence  Extroversion  Tough_Mindness  Self_Control  \n",
              "0       20            20            20              20            20  \n",
              "1       23            23            23              23            23  \n",
              "2       20            20            20              20            20  \n",
              "3       22            22            22              22            22  \n",
              "4       20            20            20              20            20  \n",
              "\n",
              "[5 rows x 115 columns]"
            ],
            "text/html": [
              "\n",
              "  <div id=\"df-50f37590-8598-4ae0-9ccb-c3aaa2d8349d\" class=\"colab-df-container\">\n",
              "    <div>\n",
              "<style scoped>\n",
              "    .dataframe tbody tr th:only-of-type {\n",
              "        vertical-align: middle;\n",
              "    }\n",
              "\n",
              "    .dataframe tbody tr th {\n",
              "        vertical-align: top;\n",
              "    }\n",
              "\n",
              "    .dataframe thead th {\n",
              "        text-align: right;\n",
              "    }\n",
              "</style>\n",
              "<table border=\"1\" class=\"dataframe\">\n",
              "  <thead>\n",
              "    <tr style=\"text-align: right;\">\n",
              "      <th></th>\n",
              "      <th>I_seldom_feel_blue</th>\n",
              "      <th>I_feel_comfortable_with_myself</th>\n",
              "      <th>I_readily_overcome_setbacks</th>\n",
              "      <th>I_am_relaxed_most_of_the_time</th>\n",
              "      <th>I_am_not_easily_frustrated</th>\n",
              "      <th>I_have_frequent_mood_swings</th>\n",
              "      <th>I_often_feel_blue</th>\n",
              "      <th>I_dislike_myself</th>\n",
              "      <th>I_feel_desperate</th>\n",
              "      <th>I_am_easily_discouraged</th>\n",
              "      <th>...</th>\n",
              "      <th>I_avoid_philosophical_discussions_</th>\n",
              "      <th>I_rarely_look_for_a_deeper_meaning_in_things_</th>\n",
              "      <th>I_am_not_interested_in_theoretical_discussions_</th>\n",
              "      <th>I_am_not_interested_in_abstract_ideas_</th>\n",
              "      <th>I_try_to_avoid_complex_people_</th>\n",
              "      <th>Anxiety</th>\n",
              "      <th>Independence</th>\n",
              "      <th>Extroversion</th>\n",
              "      <th>Tough_Mindness</th>\n",
              "      <th>Self_Control</th>\n",
              "    </tr>\n",
              "  </thead>\n",
              "  <tbody>\n",
              "    <tr>\n",
              "      <th>0</th>\n",
              "      <td>17</td>\n",
              "      <td>10</td>\n",
              "      <td>14</td>\n",
              "      <td>14</td>\n",
              "      <td>14</td>\n",
              "      <td>2</td>\n",
              "      <td>2</td>\n",
              "      <td>2</td>\n",
              "      <td>2</td>\n",
              "      <td>10</td>\n",
              "      <td>...</td>\n",
              "      <td>2</td>\n",
              "      <td>14</td>\n",
              "      <td>2</td>\n",
              "      <td>2</td>\n",
              "      <td>2</td>\n",
              "      <td>20</td>\n",
              "      <td>20</td>\n",
              "      <td>20</td>\n",
              "      <td>20</td>\n",
              "      <td>20</td>\n",
              "    </tr>\n",
              "    <tr>\n",
              "      <th>1</th>\n",
              "      <td>17</td>\n",
              "      <td>6</td>\n",
              "      <td>16</td>\n",
              "      <td>6</td>\n",
              "      <td>11</td>\n",
              "      <td>6</td>\n",
              "      <td>6</td>\n",
              "      <td>11</td>\n",
              "      <td>6</td>\n",
              "      <td>16</td>\n",
              "      <td>...</td>\n",
              "      <td>6</td>\n",
              "      <td>16</td>\n",
              "      <td>17</td>\n",
              "      <td>16</td>\n",
              "      <td>16</td>\n",
              "      <td>23</td>\n",
              "      <td>23</td>\n",
              "      <td>23</td>\n",
              "      <td>23</td>\n",
              "      <td>23</td>\n",
              "    </tr>\n",
              "    <tr>\n",
              "      <th>2</th>\n",
              "      <td>2</td>\n",
              "      <td>3</td>\n",
              "      <td>10</td>\n",
              "      <td>2</td>\n",
              "      <td>2</td>\n",
              "      <td>10</td>\n",
              "      <td>2</td>\n",
              "      <td>17</td>\n",
              "      <td>10</td>\n",
              "      <td>14</td>\n",
              "      <td>...</td>\n",
              "      <td>2</td>\n",
              "      <td>2</td>\n",
              "      <td>19</td>\n",
              "      <td>2</td>\n",
              "      <td>10</td>\n",
              "      <td>20</td>\n",
              "      <td>20</td>\n",
              "      <td>20</td>\n",
              "      <td>20</td>\n",
              "      <td>20</td>\n",
              "    </tr>\n",
              "    <tr>\n",
              "      <th>3</th>\n",
              "      <td>12</td>\n",
              "      <td>8</td>\n",
              "      <td>19</td>\n",
              "      <td>8</td>\n",
              "      <td>4</td>\n",
              "      <td>19</td>\n",
              "      <td>19</td>\n",
              "      <td>7</td>\n",
              "      <td>12</td>\n",
              "      <td>18</td>\n",
              "      <td>...</td>\n",
              "      <td>19</td>\n",
              "      <td>19</td>\n",
              "      <td>19</td>\n",
              "      <td>12</td>\n",
              "      <td>19</td>\n",
              "      <td>22</td>\n",
              "      <td>22</td>\n",
              "      <td>22</td>\n",
              "      <td>22</td>\n",
              "      <td>22</td>\n",
              "    </tr>\n",
              "    <tr>\n",
              "      <th>4</th>\n",
              "      <td>2</td>\n",
              "      <td>2</td>\n",
              "      <td>10</td>\n",
              "      <td>2</td>\n",
              "      <td>14</td>\n",
              "      <td>2</td>\n",
              "      <td>14</td>\n",
              "      <td>14</td>\n",
              "      <td>14</td>\n",
              "      <td>2</td>\n",
              "      <td>...</td>\n",
              "      <td>14</td>\n",
              "      <td>2</td>\n",
              "      <td>17</td>\n",
              "      <td>10</td>\n",
              "      <td>2</td>\n",
              "      <td>20</td>\n",
              "      <td>20</td>\n",
              "      <td>20</td>\n",
              "      <td>20</td>\n",
              "      <td>20</td>\n",
              "    </tr>\n",
              "  </tbody>\n",
              "</table>\n",
              "<p>5 rows × 115 columns</p>\n",
              "</div>\n",
              "    <div class=\"colab-df-buttons\">\n",
              "\n",
              "  <div class=\"colab-df-container\">\n",
              "    <button class=\"colab-df-convert\" onclick=\"convertToInteractive('df-50f37590-8598-4ae0-9ccb-c3aaa2d8349d')\"\n",
              "            title=\"Convert this dataframe to an interactive table.\"\n",
              "            style=\"display:none;\">\n",
              "\n",
              "  <svg xmlns=\"http://www.w3.org/2000/svg\" height=\"24px\" viewBox=\"0 -960 960 960\">\n",
              "    <path d=\"M120-120v-720h720v720H120Zm60-500h600v-160H180v160Zm220 220h160v-160H400v160Zm0 220h160v-160H400v160ZM180-400h160v-160H180v160Zm440 0h160v-160H620v160ZM180-180h160v-160H180v160Zm440 0h160v-160H620v160Z\"/>\n",
              "  </svg>\n",
              "    </button>\n",
              "\n",
              "  <style>\n",
              "    .colab-df-container {\n",
              "      display:flex;\n",
              "      gap: 12px;\n",
              "    }\n",
              "\n",
              "    .colab-df-convert {\n",
              "      background-color: #E8F0FE;\n",
              "      border: none;\n",
              "      border-radius: 50%;\n",
              "      cursor: pointer;\n",
              "      display: none;\n",
              "      fill: #1967D2;\n",
              "      height: 32px;\n",
              "      padding: 0 0 0 0;\n",
              "      width: 32px;\n",
              "    }\n",
              "\n",
              "    .colab-df-convert:hover {\n",
              "      background-color: #E2EBFA;\n",
              "      box-shadow: 0px 1px 2px rgba(60, 64, 67, 0.3), 0px 1px 3px 1px rgba(60, 64, 67, 0.15);\n",
              "      fill: #174EA6;\n",
              "    }\n",
              "\n",
              "    .colab-df-buttons div {\n",
              "      margin-bottom: 4px;\n",
              "    }\n",
              "\n",
              "    [theme=dark] .colab-df-convert {\n",
              "      background-color: #3B4455;\n",
              "      fill: #D2E3FC;\n",
              "    }\n",
              "\n",
              "    [theme=dark] .colab-df-convert:hover {\n",
              "      background-color: #434B5C;\n",
              "      box-shadow: 0px 1px 3px 1px rgba(0, 0, 0, 0.15);\n",
              "      filter: drop-shadow(0px 1px 2px rgba(0, 0, 0, 0.3));\n",
              "      fill: #FFFFFF;\n",
              "    }\n",
              "  </style>\n",
              "\n",
              "    <script>\n",
              "      const buttonEl =\n",
              "        document.querySelector('#df-50f37590-8598-4ae0-9ccb-c3aaa2d8349d button.colab-df-convert');\n",
              "      buttonEl.style.display =\n",
              "        google.colab.kernel.accessAllowed ? 'block' : 'none';\n",
              "\n",
              "      async function convertToInteractive(key) {\n",
              "        const element = document.querySelector('#df-50f37590-8598-4ae0-9ccb-c3aaa2d8349d');\n",
              "        const dataTable =\n",
              "          await google.colab.kernel.invokeFunction('convertToInteractive',\n",
              "                                                    [key], {});\n",
              "        if (!dataTable) return;\n",
              "\n",
              "        const docLinkHtml = 'Like what you see? Visit the ' +\n",
              "          '<a target=\"_blank\" href=https://colab.research.google.com/notebooks/data_table.ipynb>data table notebook</a>'\n",
              "          + ' to learn more about interactive tables.';\n",
              "        element.innerHTML = '';\n",
              "        dataTable['output_type'] = 'display_data';\n",
              "        await google.colab.output.renderOutput(dataTable, element);\n",
              "        const docLink = document.createElement('div');\n",
              "        docLink.innerHTML = docLinkHtml;\n",
              "        element.appendChild(docLink);\n",
              "      }\n",
              "    </script>\n",
              "  </div>\n",
              "\n",
              "\n",
              "<div id=\"df-d536d7fc-4801-485b-9e96-3007af23b54c\">\n",
              "  <button class=\"colab-df-quickchart\" onclick=\"quickchart('df-d536d7fc-4801-485b-9e96-3007af23b54c')\"\n",
              "            title=\"Suggest charts\"\n",
              "            style=\"display:none;\">\n",
              "\n",
              "<svg xmlns=\"http://www.w3.org/2000/svg\" height=\"24px\"viewBox=\"0 0 24 24\"\n",
              "     width=\"24px\">\n",
              "    <g>\n",
              "        <path d=\"M19 3H5c-1.1 0-2 .9-2 2v14c0 1.1.9 2 2 2h14c1.1 0 2-.9 2-2V5c0-1.1-.9-2-2-2zM9 17H7v-7h2v7zm4 0h-2V7h2v10zm4 0h-2v-4h2v4z\"/>\n",
              "    </g>\n",
              "</svg>\n",
              "  </button>\n",
              "\n",
              "<style>\n",
              "  .colab-df-quickchart {\n",
              "      --bg-color: #E8F0FE;\n",
              "      --fill-color: #1967D2;\n",
              "      --hover-bg-color: #E2EBFA;\n",
              "      --hover-fill-color: #174EA6;\n",
              "      --disabled-fill-color: #AAA;\n",
              "      --disabled-bg-color: #DDD;\n",
              "  }\n",
              "\n",
              "  [theme=dark] .colab-df-quickchart {\n",
              "      --bg-color: #3B4455;\n",
              "      --fill-color: #D2E3FC;\n",
              "      --hover-bg-color: #434B5C;\n",
              "      --hover-fill-color: #FFFFFF;\n",
              "      --disabled-bg-color: #3B4455;\n",
              "      --disabled-fill-color: #666;\n",
              "  }\n",
              "\n",
              "  .colab-df-quickchart {\n",
              "    background-color: var(--bg-color);\n",
              "    border: none;\n",
              "    border-radius: 50%;\n",
              "    cursor: pointer;\n",
              "    display: none;\n",
              "    fill: var(--fill-color);\n",
              "    height: 32px;\n",
              "    padding: 0;\n",
              "    width: 32px;\n",
              "  }\n",
              "\n",
              "  .colab-df-quickchart:hover {\n",
              "    background-color: var(--hover-bg-color);\n",
              "    box-shadow: 0 1px 2px rgba(60, 64, 67, 0.3), 0 1px 3px 1px rgba(60, 64, 67, 0.15);\n",
              "    fill: var(--button-hover-fill-color);\n",
              "  }\n",
              "\n",
              "  .colab-df-quickchart-complete:disabled,\n",
              "  .colab-df-quickchart-complete:disabled:hover {\n",
              "    background-color: var(--disabled-bg-color);\n",
              "    fill: var(--disabled-fill-color);\n",
              "    box-shadow: none;\n",
              "  }\n",
              "\n",
              "  .colab-df-spinner {\n",
              "    border: 2px solid var(--fill-color);\n",
              "    border-color: transparent;\n",
              "    border-bottom-color: var(--fill-color);\n",
              "    animation:\n",
              "      spin 1s steps(1) infinite;\n",
              "  }\n",
              "\n",
              "  @keyframes spin {\n",
              "    0% {\n",
              "      border-color: transparent;\n",
              "      border-bottom-color: var(--fill-color);\n",
              "      border-left-color: var(--fill-color);\n",
              "    }\n",
              "    20% {\n",
              "      border-color: transparent;\n",
              "      border-left-color: var(--fill-color);\n",
              "      border-top-color: var(--fill-color);\n",
              "    }\n",
              "    30% {\n",
              "      border-color: transparent;\n",
              "      border-left-color: var(--fill-color);\n",
              "      border-top-color: var(--fill-color);\n",
              "      border-right-color: var(--fill-color);\n",
              "    }\n",
              "    40% {\n",
              "      border-color: transparent;\n",
              "      border-right-color: var(--fill-color);\n",
              "      border-top-color: var(--fill-color);\n",
              "    }\n",
              "    60% {\n",
              "      border-color: transparent;\n",
              "      border-right-color: var(--fill-color);\n",
              "    }\n",
              "    80% {\n",
              "      border-color: transparent;\n",
              "      border-right-color: var(--fill-color);\n",
              "      border-bottom-color: var(--fill-color);\n",
              "    }\n",
              "    90% {\n",
              "      border-color: transparent;\n",
              "      border-bottom-color: var(--fill-color);\n",
              "    }\n",
              "  }\n",
              "</style>\n",
              "\n",
              "  <script>\n",
              "    async function quickchart(key) {\n",
              "      const quickchartButtonEl =\n",
              "        document.querySelector('#' + key + ' button');\n",
              "      quickchartButtonEl.disabled = true;  // To prevent multiple clicks.\n",
              "      quickchartButtonEl.classList.add('colab-df-spinner');\n",
              "      try {\n",
              "        const charts = await google.colab.kernel.invokeFunction(\n",
              "            'suggestCharts', [key], {});\n",
              "      } catch (error) {\n",
              "        console.error('Error during call to suggestCharts:', error);\n",
              "      }\n",
              "      quickchartButtonEl.classList.remove('colab-df-spinner');\n",
              "      quickchartButtonEl.classList.add('colab-df-quickchart-complete');\n",
              "    }\n",
              "    (() => {\n",
              "      let quickchartButtonEl =\n",
              "        document.querySelector('#df-d536d7fc-4801-485b-9e96-3007af23b54c button');\n",
              "      quickchartButtonEl.style.display =\n",
              "        google.colab.kernel.accessAllowed ? 'block' : 'none';\n",
              "    })();\n",
              "  </script>\n",
              "</div>\n",
              "\n",
              "    </div>\n",
              "  </div>\n"
            ],
            "application/vnd.google.colaboratory.intrinsic+json": {
              "type": "dataframe",
              "variable_name": "df"
            }
          },
          "metadata": {},
          "execution_count": 11
        }
      ]
    },
    {
      "cell_type": "code",
      "source": [
        "df.columns #displays the column heading with no. of columns and datatypes"
      ],
      "metadata": {
        "colab": {
          "base_uri": "https://localhost:8080/"
        },
        "id": "iKjVjrJQ2TCM",
        "outputId": "375769ab-0361-4069-8727-787532e894dc"
      },
      "execution_count": 12,
      "outputs": [
        {
          "output_type": "execute_result",
          "data": {
            "text/plain": [
              "Index(['I_seldom_feel_blue', 'I_feel_comfortable_with_myself',\n",
              "       'I_readily_overcome_setbacks', 'I_am_relaxed_most_of_the_time',\n",
              "       'I_am_not_easily_frustrated', 'I_have_frequent_mood_swings',\n",
              "       'I_often_feel_blue', 'I_dislike_myself', 'I_feel_desperate',\n",
              "       'I_am_easily_discouraged',\n",
              "       ...\n",
              "       'I_avoid_philosophical_discussions_',\n",
              "       'I_rarely_look_for_a_deeper_meaning_in_things_',\n",
              "       'I_am_not_interested_in_theoretical_discussions_',\n",
              "       'I_am_not_interested_in_abstract_ideas_',\n",
              "       'I_try_to_avoid_complex_people_', 'Anxiety', 'Independence',\n",
              "       'Extroversion', 'Tough_Mindness', 'Self_Control'],\n",
              "      dtype='object', length=115)"
            ]
          },
          "metadata": {},
          "execution_count": 12
        }
      ]
    },
    {
      "cell_type": "code",
      "source": [
        "TARGETS = ['Anxiety', 'Independence', 'Extroversion', 'Tough_Mindness', 'Self_Control'] #list storing the target variables"
      ],
      "metadata": {
        "id": "0HnpE_1a2oXv"
      },
      "execution_count": 13,
      "outputs": []
    },
    {
      "cell_type": "code",
      "source": [
        "X = df.drop(TARGETS, axis=1) #list for storing the input features\n",
        "y = df[TARGETS] #list for storing the target/output variables"
      ],
      "metadata": {
        "id": "Yc1T1sS62xy_"
      },
      "execution_count": 14,
      "outputs": []
    },
    {
      "cell_type": "code",
      "source": [
        "X_train, X_test, y_train, y_test = train_test_split(X, y, test_size=0.2, random_state=100) #splits dataset for training and testing"
      ],
      "metadata": {
        "id": "fHKPXR0U22E_"
      },
      "execution_count": 15,
      "outputs": []
    },
    {
      "cell_type": "code",
      "source": [
        "#SCALING OF DATASET (PRE-PROCESSING)\n",
        "scaler = StandardScaler()\n",
        "X_train = scaler.fit_transform(X_train)\n",
        "X_test = scaler.transform(X_test)"
      ],
      "metadata": {
        "id": "WONbOHLd3BVC"
      },
      "execution_count": 16,
      "outputs": []
    },
    {
      "cell_type": "code",
      "source": [
        "#IMPORTING LIBRARIES OF MODELS\n",
        "from sklearn.metrics import accuracy_score\n",
        "from sklearn.multioutput import MultiOutputClassifier\n",
        "from sklearn.tree import DecisionTreeClassifier\n",
        "from sklearn.ensemble import RandomForestClassifier\n",
        "from sklearn.svm import SVC"
      ],
      "metadata": {
        "id": "ok6XL_GH3GN0"
      },
      "execution_count": 17,
      "outputs": []
    },
    {
      "cell_type": "code",
      "source": [
        "models = [DecisionTreeClassifier(), RandomForestClassifier(), SVC()] #list storing ML models to be used"
      ],
      "metadata": {
        "id": "myeOfpKP3LQ3"
      },
      "execution_count": 18,
      "outputs": []
    },
    {
      "cell_type": "code",
      "source": [
        "#DISPLAYING ACCURACY OF DIFFERENT MODELS FOR OUR DATASET\n",
        "for model in models:\n",
        "    multi_model = MultiOutputClassifier(model)\n",
        "    multi_model.fit(X_train, y_train)\n",
        "    acc = multi_model.score(X_test, y_test)\n",
        "    print(f\"Model: {model} \\t Accuracy: {acc}\")"
      ],
      "metadata": {
        "colab": {
          "base_uri": "https://localhost:8080/"
        },
        "id": "qjgbPOf-3THV",
        "outputId": "ce7b2d87-9b6a-43c0-f2e1-0c960140b6a5"
      },
      "execution_count": 19,
      "outputs": [
        {
          "output_type": "stream",
          "name": "stdout",
          "text": [
            "Model: DecisionTreeClassifier() \t Accuracy: 0.6\n",
            "Model: RandomForestClassifier() \t Accuracy: 0.95\n",
            "Model: SVC() \t Accuracy: 0.925\n"
          ]
        }
      ]
    },
    {
      "cell_type": "code",
      "source": [
        "#FITTING THE BEST MODEL FOR OUR DATASET\n",
        "rf = RandomForestClassifier()\n",
        "rf.fit(X_train, y_train)"
      ],
      "metadata": {
        "colab": {
          "base_uri": "https://localhost:8080/",
          "height": 74
        },
        "id": "Uq4czsla4BJQ",
        "outputId": "7fc6ca0b-58f0-4b7f-bdb1-7b90aff481fa"
      },
      "execution_count": 20,
      "outputs": [
        {
          "output_type": "execute_result",
          "data": {
            "text/plain": [
              "RandomForestClassifier()"
            ],
            "text/html": [
              "<style>#sk-container-id-1 {color: black;background-color: white;}#sk-container-id-1 pre{padding: 0;}#sk-container-id-1 div.sk-toggleable {background-color: white;}#sk-container-id-1 label.sk-toggleable__label {cursor: pointer;display: block;width: 100%;margin-bottom: 0;padding: 0.3em;box-sizing: border-box;text-align: center;}#sk-container-id-1 label.sk-toggleable__label-arrow:before {content: \"▸\";float: left;margin-right: 0.25em;color: #696969;}#sk-container-id-1 label.sk-toggleable__label-arrow:hover:before {color: black;}#sk-container-id-1 div.sk-estimator:hover label.sk-toggleable__label-arrow:before {color: black;}#sk-container-id-1 div.sk-toggleable__content {max-height: 0;max-width: 0;overflow: hidden;text-align: left;background-color: #f0f8ff;}#sk-container-id-1 div.sk-toggleable__content pre {margin: 0.2em;color: black;border-radius: 0.25em;background-color: #f0f8ff;}#sk-container-id-1 input.sk-toggleable__control:checked~div.sk-toggleable__content {max-height: 200px;max-width: 100%;overflow: auto;}#sk-container-id-1 input.sk-toggleable__control:checked~label.sk-toggleable__label-arrow:before {content: \"▾\";}#sk-container-id-1 div.sk-estimator input.sk-toggleable__control:checked~label.sk-toggleable__label {background-color: #d4ebff;}#sk-container-id-1 div.sk-label input.sk-toggleable__control:checked~label.sk-toggleable__label {background-color: #d4ebff;}#sk-container-id-1 input.sk-hidden--visually {border: 0;clip: rect(1px 1px 1px 1px);clip: rect(1px, 1px, 1px, 1px);height: 1px;margin: -1px;overflow: hidden;padding: 0;position: absolute;width: 1px;}#sk-container-id-1 div.sk-estimator {font-family: monospace;background-color: #f0f8ff;border: 1px dotted black;border-radius: 0.25em;box-sizing: border-box;margin-bottom: 0.5em;}#sk-container-id-1 div.sk-estimator:hover {background-color: #d4ebff;}#sk-container-id-1 div.sk-parallel-item::after {content: \"\";width: 100%;border-bottom: 1px solid gray;flex-grow: 1;}#sk-container-id-1 div.sk-label:hover label.sk-toggleable__label {background-color: #d4ebff;}#sk-container-id-1 div.sk-serial::before {content: \"\";position: absolute;border-left: 1px solid gray;box-sizing: border-box;top: 0;bottom: 0;left: 50%;z-index: 0;}#sk-container-id-1 div.sk-serial {display: flex;flex-direction: column;align-items: center;background-color: white;padding-right: 0.2em;padding-left: 0.2em;position: relative;}#sk-container-id-1 div.sk-item {position: relative;z-index: 1;}#sk-container-id-1 div.sk-parallel {display: flex;align-items: stretch;justify-content: center;background-color: white;position: relative;}#sk-container-id-1 div.sk-item::before, #sk-container-id-1 div.sk-parallel-item::before {content: \"\";position: absolute;border-left: 1px solid gray;box-sizing: border-box;top: 0;bottom: 0;left: 50%;z-index: -1;}#sk-container-id-1 div.sk-parallel-item {display: flex;flex-direction: column;z-index: 1;position: relative;background-color: white;}#sk-container-id-1 div.sk-parallel-item:first-child::after {align-self: flex-end;width: 50%;}#sk-container-id-1 div.sk-parallel-item:last-child::after {align-self: flex-start;width: 50%;}#sk-container-id-1 div.sk-parallel-item:only-child::after {width: 0;}#sk-container-id-1 div.sk-dashed-wrapped {border: 1px dashed gray;margin: 0 0.4em 0.5em 0.4em;box-sizing: border-box;padding-bottom: 0.4em;background-color: white;}#sk-container-id-1 div.sk-label label {font-family: monospace;font-weight: bold;display: inline-block;line-height: 1.2em;}#sk-container-id-1 div.sk-label-container {text-align: center;}#sk-container-id-1 div.sk-container {/* jupyter's `normalize.less` sets `[hidden] { display: none; }` but bootstrap.min.css set `[hidden] { display: none !important; }` so we also need the `!important` here to be able to override the default hidden behavior on the sphinx rendered scikit-learn.org. See: https://github.com/scikit-learn/scikit-learn/issues/21755 */display: inline-block !important;position: relative;}#sk-container-id-1 div.sk-text-repr-fallback {display: none;}</style><div id=\"sk-container-id-1\" class=\"sk-top-container\"><div class=\"sk-text-repr-fallback\"><pre>RandomForestClassifier()</pre><b>In a Jupyter environment, please rerun this cell to show the HTML representation or trust the notebook. <br />On GitHub, the HTML representation is unable to render, please try loading this page with nbviewer.org.</b></div><div class=\"sk-container\" hidden><div class=\"sk-item\"><div class=\"sk-estimator sk-toggleable\"><input class=\"sk-toggleable__control sk-hidden--visually\" id=\"sk-estimator-id-1\" type=\"checkbox\" checked><label for=\"sk-estimator-id-1\" class=\"sk-toggleable__label sk-toggleable__label-arrow\">RandomForestClassifier</label><div class=\"sk-toggleable__content\"><pre>RandomForestClassifier()</pre></div></div></div></div></div>"
            ]
          },
          "metadata": {},
          "execution_count": 20
        }
      ]
    },
    {
      "cell_type": "code",
      "source": [
        "predicted = rf.predict(X_test) #predicting from test data after separately fitting in model\n",
        "\n",
        "for i in predicted:#display predictions\n",
        "  print(i)"
      ],
      "metadata": {
        "colab": {
          "base_uri": "https://localhost:8080/"
        },
        "id": "POFwx5Kr4JAb",
        "outputId": "879b8be1-bdf7-4603-ad82-ad966f01ec7c"
      },
      "execution_count": 21,
      "outputs": [
        {
          "output_type": "stream",
          "name": "stdout",
          "text": [
            "[21 21 21 21 21]\n",
            "[22 22 22 22 22]\n",
            "[20 20 20 20 20]\n",
            "[20 20 20 20 20]\n",
            "[23 23 23 23 23]\n",
            "[22 22 22 22 22]\n",
            "[20 20 20 20 20]\n",
            "[23 23 23 23 23]\n",
            "[22 22 22 22 22]\n",
            "[22 22 22 22 22]\n",
            "[20 20 20 20 20]\n",
            "[21 21 21 21 21]\n",
            "[22 22 22 22 22]\n",
            "[22 22 22 22 22]\n",
            "[20 20 20 20 20]\n",
            "[20 20 20 20 20]\n",
            "[23 23 23 23 23]\n",
            "[22 22 22 22 22]\n",
            "[22 22 22 22 22]\n",
            "[22 22 22 22 22]\n",
            "[23 23 23 23 23]\n",
            "[22 22 22 22 22]\n",
            "[23 23 23 23 23]\n",
            "[21 21 21 21 21]\n",
            "[22 22 22 22 22]\n",
            "[20 20 20 20 20]\n",
            "[21 21 21 21 21]\n",
            "[21 21 21 21 21]\n",
            "[23 23 23 23 23]\n",
            "[22 22 22 22 22]\n",
            "[23 23 23 23 23]\n",
            "[20 20 20 20 20]\n",
            "[22 22 22 22 22]\n",
            "[20 20 20 20 20]\n",
            "[22 22 22 22 22]\n",
            "[20 20 20 20 20]\n",
            "[22 22 22 22 22]\n",
            "[20 20 20 20 20]\n",
            "[22 22 22 22 22]\n",
            "[20 20 20 20 20]\n"
          ]
        }
      ]
    },
    {
      "cell_type": "code",
      "source": [
        "#Make new data for finding output\n",
        "import random\n",
        "outerArr = []\n",
        "for j in range(5):\n",
        "  innerArr = []\n",
        "  for i in range(110):\n",
        "    randomElement = random.randrange(0,20)\n",
        "    innerArr.append(randomElement)\n",
        "  outerArr.append(innerArr)\n",
        "\n",
        "print(outerArr)\n",
        "for i in outerArr:\n",
        "  print(i)"
      ],
      "metadata": {
        "colab": {
          "base_uri": "https://localhost:8080/"
        },
        "id": "1H9IbV2z4NJN",
        "outputId": "ba5e8907-1c5a-4d7a-be57-072637254631"
      },
      "execution_count": 22,
      "outputs": [
        {
          "output_type": "stream",
          "name": "stdout",
          "text": [
            "[[6, 8, 2, 18, 15, 10, 18, 12, 3, 15, 6, 14, 12, 1, 11, 1, 16, 12, 15, 14, 14, 11, 14, 18, 10, 14, 4, 9, 2, 19, 3, 14, 1, 3, 6, 16, 17, 1, 13, 7, 14, 9, 7, 3, 2, 6, 8, 7, 13, 13, 7, 2, 14, 7, 7, 5, 14, 14, 17, 10, 15, 4, 4, 19, 10, 19, 14, 19, 16, 16, 1, 19, 17, 13, 8, 19, 8, 14, 10, 11, 4, 4, 1, 16, 1, 4, 4, 18, 5, 19, 6, 0, 7, 12, 18, 18, 3, 8, 17, 2, 4, 2, 2, 6, 15, 17, 17, 11, 6, 0], [11, 19, 8, 13, 11, 17, 6, 15, 7, 2, 7, 2, 19, 6, 18, 4, 9, 19, 18, 16, 15, 13, 11, 14, 18, 7, 11, 12, 7, 13, 9, 1, 7, 8, 16, 2, 11, 2, 7, 8, 17, 18, 18, 15, 11, 10, 7, 9, 0, 19, 4, 13, 0, 17, 17, 11, 0, 4, 19, 4, 4, 3, 9, 16, 13, 15, 0, 2, 4, 13, 14, 1, 19, 14, 16, 16, 15, 18, 9, 13, 18, 7, 15, 16, 10, 5, 2, 12, 3, 1, 17, 8, 11, 12, 10, 18, 2, 4, 8, 13, 4, 1, 0, 15, 7, 11, 10, 12, 6, 19], [8, 15, 18, 15, 9, 12, 3, 8, 2, 0, 15, 18, 6, 11, 9, 3, 2, 4, 1, 13, 19, 16, 6, 7, 16, 10, 6, 5, 6, 2, 9, 0, 8, 12, 8, 16, 8, 0, 11, 17, 10, 2, 10, 18, 4, 12, 14, 16, 2, 6, 4, 0, 5, 0, 0, 16, 11, 12, 9, 2, 9, 9, 19, 9, 6, 4, 13, 16, 6, 9, 18, 19, 1, 16, 6, 2, 16, 17, 4, 9, 0, 5, 6, 19, 8, 5, 3, 10, 12, 8, 1, 2, 15, 12, 11, 3, 17, 15, 19, 4, 2, 3, 3, 15, 14, 3, 1, 3, 15, 0], [0, 4, 17, 1, 14, 13, 12, 12, 8, 15, 10, 16, 19, 11, 6, 12, 14, 18, 7, 6, 9, 10, 14, 6, 9, 12, 0, 8, 4, 0, 3, 18, 0, 7, 7, 18, 7, 10, 8, 14, 19, 9, 2, 0, 13, 14, 12, 14, 1, 11, 17, 1, 7, 8, 5, 0, 14, 15, 18, 19, 12, 16, 3, 3, 12, 7, 9, 6, 1, 8, 4, 11, 5, 2, 11, 14, 16, 18, 18, 5, 13, 5, 7, 17, 17, 10, 7, 0, 9, 0, 6, 10, 8, 5, 15, 14, 19, 15, 17, 3, 16, 19, 19, 0, 18, 8, 14, 11, 3, 16], [14, 0, 18, 12, 13, 1, 12, 1, 1, 9, 3, 2, 6, 18, 19, 7, 13, 8, 10, 0, 0, 14, 7, 4, 15, 1, 4, 15, 19, 2, 0, 16, 8, 14, 4, 0, 17, 10, 8, 0, 17, 18, 9, 8, 17, 13, 2, 16, 17, 3, 14, 13, 6, 3, 14, 15, 3, 1, 5, 9, 8, 16, 18, 12, 18, 7, 14, 9, 14, 19, 12, 6, 10, 10, 6, 2, 10, 2, 17, 1, 6, 14, 13, 5, 6, 6, 3, 17, 13, 1, 19, 12, 18, 14, 11, 16, 16, 9, 6, 2, 10, 6, 0, 16, 4, 18, 13, 14, 12, 1]]\n",
            "[6, 8, 2, 18, 15, 10, 18, 12, 3, 15, 6, 14, 12, 1, 11, 1, 16, 12, 15, 14, 14, 11, 14, 18, 10, 14, 4, 9, 2, 19, 3, 14, 1, 3, 6, 16, 17, 1, 13, 7, 14, 9, 7, 3, 2, 6, 8, 7, 13, 13, 7, 2, 14, 7, 7, 5, 14, 14, 17, 10, 15, 4, 4, 19, 10, 19, 14, 19, 16, 16, 1, 19, 17, 13, 8, 19, 8, 14, 10, 11, 4, 4, 1, 16, 1, 4, 4, 18, 5, 19, 6, 0, 7, 12, 18, 18, 3, 8, 17, 2, 4, 2, 2, 6, 15, 17, 17, 11, 6, 0]\n",
            "[11, 19, 8, 13, 11, 17, 6, 15, 7, 2, 7, 2, 19, 6, 18, 4, 9, 19, 18, 16, 15, 13, 11, 14, 18, 7, 11, 12, 7, 13, 9, 1, 7, 8, 16, 2, 11, 2, 7, 8, 17, 18, 18, 15, 11, 10, 7, 9, 0, 19, 4, 13, 0, 17, 17, 11, 0, 4, 19, 4, 4, 3, 9, 16, 13, 15, 0, 2, 4, 13, 14, 1, 19, 14, 16, 16, 15, 18, 9, 13, 18, 7, 15, 16, 10, 5, 2, 12, 3, 1, 17, 8, 11, 12, 10, 18, 2, 4, 8, 13, 4, 1, 0, 15, 7, 11, 10, 12, 6, 19]\n",
            "[8, 15, 18, 15, 9, 12, 3, 8, 2, 0, 15, 18, 6, 11, 9, 3, 2, 4, 1, 13, 19, 16, 6, 7, 16, 10, 6, 5, 6, 2, 9, 0, 8, 12, 8, 16, 8, 0, 11, 17, 10, 2, 10, 18, 4, 12, 14, 16, 2, 6, 4, 0, 5, 0, 0, 16, 11, 12, 9, 2, 9, 9, 19, 9, 6, 4, 13, 16, 6, 9, 18, 19, 1, 16, 6, 2, 16, 17, 4, 9, 0, 5, 6, 19, 8, 5, 3, 10, 12, 8, 1, 2, 15, 12, 11, 3, 17, 15, 19, 4, 2, 3, 3, 15, 14, 3, 1, 3, 15, 0]\n",
            "[0, 4, 17, 1, 14, 13, 12, 12, 8, 15, 10, 16, 19, 11, 6, 12, 14, 18, 7, 6, 9, 10, 14, 6, 9, 12, 0, 8, 4, 0, 3, 18, 0, 7, 7, 18, 7, 10, 8, 14, 19, 9, 2, 0, 13, 14, 12, 14, 1, 11, 17, 1, 7, 8, 5, 0, 14, 15, 18, 19, 12, 16, 3, 3, 12, 7, 9, 6, 1, 8, 4, 11, 5, 2, 11, 14, 16, 18, 18, 5, 13, 5, 7, 17, 17, 10, 7, 0, 9, 0, 6, 10, 8, 5, 15, 14, 19, 15, 17, 3, 16, 19, 19, 0, 18, 8, 14, 11, 3, 16]\n",
            "[14, 0, 18, 12, 13, 1, 12, 1, 1, 9, 3, 2, 6, 18, 19, 7, 13, 8, 10, 0, 0, 14, 7, 4, 15, 1, 4, 15, 19, 2, 0, 16, 8, 14, 4, 0, 17, 10, 8, 0, 17, 18, 9, 8, 17, 13, 2, 16, 17, 3, 14, 13, 6, 3, 14, 15, 3, 1, 5, 9, 8, 16, 18, 12, 18, 7, 14, 9, 14, 19, 12, 6, 10, 10, 6, 2, 10, 2, 17, 1, 6, 14, 13, 5, 6, 6, 3, 17, 13, 1, 19, 12, 18, 14, 11, 16, 16, 9, 6, 2, 10, 6, 0, 16, 4, 18, 13, 14, 12, 1]\n"
          ]
        }
      ]
    },
    {
      "cell_type": "code",
      "source": [
        "#predicting\n",
        "Arr = []\n",
        "for i in range(5):\n",
        "  # Arr = df.drop(outerArr[i], axis=1)\n",
        "  # Arr = outerArr[i]\n",
        "  scaler = StandardScaler()\n",
        "  Arr = scaler.fit_transform(outerArr)\n",
        "\n",
        "predicted2 = rf.predict(Arr)\n",
        "for i in predicted2:\n",
        "  print(i)"
      ],
      "metadata": {
        "colab": {
          "base_uri": "https://localhost:8080/"
        },
        "id": "BO7YVelzAXTh",
        "outputId": "18e1030b-0c1d-4c96-cf6b-4f5f4dbedf7d"
      },
      "execution_count": 23,
      "outputs": [
        {
          "output_type": "stream",
          "name": "stdout",
          "text": [
            "[22 23 22 23 23]\n",
            "[22 22 22 22 22]\n",
            "[20 20 20 20 20]\n",
            "[21 23 22 21 21]\n",
            "[20 20 20 20 20]\n"
          ]
        }
      ]
    },
    {
      "cell_type": "code",
      "source": [
        "import joblib\n",
        "\n",
        "model_path = 'random_forest_model.pkl'  # Change the path and filename\n",
        "joblib.dump(rf, model_path)"
      ],
      "metadata": {
        "colab": {
          "base_uri": "https://localhost:8080/"
        },
        "id": "Qy7GBK521exS",
        "outputId": "a3361ebc-8abb-465f-a6c9-0ed5e4b010e2"
      },
      "execution_count": 24,
      "outputs": [
        {
          "output_type": "execute_result",
          "data": {
            "text/plain": [
              "['random_forest_model.pkl']"
            ]
          },
          "metadata": {},
          "execution_count": 24
        }
      ]
    }
  ]
}